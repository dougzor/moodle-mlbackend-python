{
 "metadata": {
  "language_info": {
   "codemirror_mode": {
    "name": "ipython",
    "version": 3
   },
   "file_extension": ".py",
   "mimetype": "text/x-python",
   "name": "python",
   "nbconvert_exporter": "python",
   "pygments_lexer": "ipython3",
   "version": "3.7.9-final"
  },
  "orig_nbformat": 2,
  "kernelspec": {
   "name": "python3",
   "display_name": "Python 3"
  }
 },
 "nbformat": 4,
 "nbformat_minor": 2,
 "cells": [
  {
   "cell_type": "code",
   "execution_count": 1,
   "metadata": {
    "tags": []
   },
   "outputs": [
    {
     "output_type": "stream",
     "name": "stdout",
     "text": [
      "/Users/doug.morgan/git/moodle-mlbackend-python/test_data/breast_cancer.csv\n------- Metadata from Moodle LMS ---------\n\nnfeatures,targetclasses,targettype\n\n30,\"[0,1]\",\"discrete\"\n\n\n\n------------------------------------------\n\n"
     ]
    },
    {
     "output_type": "execute_result",
     "data": {
      "text/plain": [
       "<bound method NDFrame.head of      0\n",
       "0    1\n",
       "1    1\n",
       "2    0\n",
       "3    1\n",
       "4    1\n",
       "..  ..\n",
       "564  0\n",
       "565  1\n",
       "566  1\n",
       "567  1\n",
       "568  1\n",
       "\n",
       "[569 rows x 1 columns]>"
      ]
     },
     "metadata": {},
     "execution_count": 1
    }
   ],
   "source": [
    "import os\n",
    "import numpy as np\n",
    "import pandas as pd\n",
    "import evalml\n",
    "from sklearn.metrics import accuracy_score\n",
    "from moodlemlbackend.processor.base import BaseEstimater\n",
    "\n",
    "# Load the data we are going to test with\n",
    "breat_cancer_path = os.path.join(os.path.abspath(''), 'test_data/breast_cancer.csv')\n",
    "print(breat_cancer_path)\n",
    "\n",
    "# In moodle data exported the first two lines have meta data in them\n",
    "with open(breat_cancer_path) as fp:\n",
    "    head = [next(fp) for x in range(3)]\n",
    "\n",
    "print(\"------- Metadata from Moodle LMS ---------\\n\")\n",
    "print(\"\\n\".join(head))\n",
    "print(\"------------------------------------------\\n\")\n",
    "\n",
    "# Get the data imported and split into test and training\n",
    "X, y = BaseEstimater.get_labelled_samples(breat_cancer_path)\n",
    "X_train, X_holdout, y_train, y_holdout = evalml.preprocessing.split_data(X, y, test_size=0.2, random_state=0)\n",
    "\n",
    "pd.DataFrame(X).head\n",
    "pd.DataFrame(y).head\n"
   ]
  },
  {
   "cell_type": "code",
   "execution_count": 2,
   "metadata": {},
   "outputs": [],
   "source": [
    "import tempfile\n",
    "from moodlemlbackend.model import TFModel\n",
    "\n",
    "# Setup the Tensorflow based Estimator (currently a Neural Network)\n",
    "temp_directory = tempfile.mkdtemp()\n",
    "model_id = 1\n",
    "with tempfile.TemporaryDirectory() as tmpdirname:\n",
    "    tf = TFModel(X_train.shape[1], len(np.unique(y_train)), 1000, 1000, 0.5, tmpdirname)\n",
    "    tf.fit(X_train.values, y_train.values)\n",
    "\n",
    "tf_score = accuracy_score(y_holdout, tf.predict(X_holdout))"
   ]
  },
  {
   "cell_type": "code",
   "execution_count": 3,
   "metadata": {},
   "outputs": [
    {
     "output_type": "stream",
     "name": "stdout",
     "text": [
      "Generating pipelines to search over...\n",
      "*****************************\n",
      "* Beginning pipeline search *\n",
      "*****************************\n",
      "\n",
      "Optimizing for Accuracy Binary. \n",
      "Greater score is better.\n",
      "\n",
      "Searching up to 10 pipelines. \n",
      "Allowed model families: extra_trees, random_forest, xgboost, linear_model, lightgbm, catboost\n",
      "\n"
     ]
    },
    {
     "output_type": "display_data",
     "data": {
      "text/plain": "FigureWidget({\n    'data': [{'mode': 'lines+markers',\n              'name': 'Best Score',\n              'type'…",
      "application/vnd.jupyter.widget-view+json": {
       "version_major": 2,
       "version_minor": 0,
       "model_id": "4bfbca7458cb4aacb3e20255390c677b"
      }
     },
     "metadata": {}
    },
    {
     "output_type": "stream",
     "name": "stdout",
     "text": [
      "(1/10) Mode Baseline Binary Classification P... Elapsed:00:00\n",
      "\tStarting cross validation\n",
      "\tFinished cross validation - mean Accuracy Binary: 0.626\n",
      "(2/10) LightGBM Classifier w/ Imputer           Elapsed:00:00\n",
      "\tStarting cross validation\n",
      "\tFinished cross validation - mean Accuracy Binary: 0.956\n",
      "(3/10) Extra Trees Classifier w/ Imputer        Elapsed:00:00\n",
      "\tStarting cross validation\n",
      "\tFinished cross validation - mean Accuracy Binary: 0.947\n",
      "(4/10) Elastic Net Classifier w/ Imputer + S... Elapsed:00:02\n",
      "\tStarting cross validation\n",
      "\tFinished cross validation - mean Accuracy Binary: 0.949\n",
      "(5/10) CatBoost Classifier w/ Imputer           Elapsed:00:02\n",
      "\tStarting cross validation\n",
      "\tFinished cross validation - mean Accuracy Binary: 0.947\n",
      "(6/10) XGBoost Classifier w/ Imputer            Elapsed:00:03\n",
      "\tStarting cross validation\n",
      "\tFinished cross validation - mean Accuracy Binary: 0.949\n",
      "(7/10) Random Forest Classifier w/ Imputer      Elapsed:00:03\n",
      "\tStarting cross validation\n",
      "\tFinished cross validation - mean Accuracy Binary: 0.941\n",
      "(8/10) Logistic Regression Classifier w/ Imp... Elapsed:00:05\n",
      "\tStarting cross validation\n",
      "\tFinished cross validation - mean Accuracy Binary: 0.976\n",
      "(9/10) Logistic Regression Classifier w/ Imp... Elapsed:00:07\n",
      "\tStarting cross validation\n",
      "\tFinished cross validation - mean Accuracy Binary: 0.963\n",
      "(10/10) Logistic Regression Classifier w/ Imp... Elapsed:00:08\n",
      "\tStarting cross validation\n",
      "\tFinished cross validation - mean Accuracy Binary: 0.954\n",
      "\n",
      "Search finished after 00:09            \n",
      "Best pipeline: Logistic Regression Classifier w/ Imputer + Standard Scaler\n",
      "Best pipeline Accuracy Binary: 0.975834\n",
      "############################# Rankings #########################################\n",
      "   id                                      pipeline_name     score  \\\n",
      "0   7  Logistic Regression Classifier w/ Imputer + St...  0.975834   \n",
      "2   1                     LightGBM Classifier w/ Imputer  0.956053   \n",
      "4   3  Elastic Net Classifier w/ Imputer + Standard S...  0.949489   \n",
      "5   5                      XGBoost Classifier w/ Imputer  0.949445   \n",
      "6   4                     CatBoost Classifier w/ Imputer  0.947310   \n",
      "7   2                  Extra Trees Classifier w/ Imputer  0.947267   \n",
      "8   6                Random Forest Classifier w/ Imputer  0.940673   \n",
      "9   0       Mode Baseline Binary Classification Pipeline  0.626380   \n",
      "\n",
      "   validation_score  percent_better_than_baseline  high_variance_cv  \\\n",
      "0          0.980263                     55.789474             False   \n",
      "2          0.947368                     52.631579             False   \n",
      "4          0.934211                     51.583585             False   \n",
      "5          0.947368                     51.576629             False   \n",
      "6          0.927632                     51.235799             False   \n",
      "7          0.940789                     51.228843             False   \n",
      "8          0.940789                     50.176211             False   \n",
      "9          0.625000                      0.000000             False   \n",
      "\n",
      "                                          parameters  \n",
      "0  {'Imputer': {'categorical_impute_strategy': 'm...  \n",
      "2  {'Imputer': {'categorical_impute_strategy': 'm...  \n",
      "4  {'Imputer': {'categorical_impute_strategy': 'm...  \n",
      "5  {'Imputer': {'categorical_impute_strategy': 'm...  \n",
      "6  {'Imputer': {'categorical_impute_strategy': 'm...  \n",
      "7  {'Imputer': {'categorical_impute_strategy': 'm...  \n",
      "8  {'Imputer': {'categorical_impute_strategy': 'm...  \n",
      "9      {'Baseline Classifier': {'strategy': 'mode'}}  \n",
      "################################################################################\n",
      "############################# Pipeiline ########################################\n",
      "***************************************************************\n",
      "* Logistic Regression Classifier w/ Imputer + Standard Scaler *\n",
      "***************************************************************\n",
      "\n",
      "Problem Type: binary\n",
      "Model Family: Linear\n",
      "Number of features: 30\n",
      "\n",
      "Pipeline Steps\n",
      "==============\n",
      "1. Imputer\n",
      "\t * categorical_impute_strategy : most_frequent\n",
      "\t * numeric_impute_strategy : mean\n",
      "\t * categorical_fill_value : None\n",
      "\t * numeric_fill_value : None\n",
      "2. Standard Scaler\n",
      "3. Logistic Regression Classifier\n",
      "\t * penalty : l2\n",
      "\t * C : 1.0\n",
      "\t * n_jobs : -1\n",
      "\t * multi_class : auto\n",
      "\t * solver : lbfgs\n",
      "################################################################################\n"
     ]
    }
   ],
   "source": [
    "# EvalML implementation\n",
    "from moodlemlbackend.model import EvalMlModel\n",
    "\n",
    "runner = EvalMlModel()\n",
    "best_pipeline = runner.fit(X_train.values, y_train.values)\n",
    "\n",
    "print(\"############################# Rankings #########################################\")\n",
    "print(runner.automl.rankings)\n",
    "print(\"################################################################################\")\n",
    "print(\"############################# Pipeiline ########################################\")\n",
    "best_pipeline.describe()\n",
    "print(\"################################################################################\")\n",
    "\n",
    "evalml_score = accuracy_score(y_holdout, best_pipeline.predict(X_holdout))"
   ]
  },
  {
   "cell_type": "code",
   "execution_count": 4,
   "metadata": {},
   "outputs": [
    {
     "output_type": "stream",
     "name": "stdout",
     "text": [
      "################\nEvalML score: 0.9824561403508771\nTensor Flow score: 0.631578947368421\n################\n"
     ]
    }
   ],
   "source": [
    "print(\"################\")\n",
    "print(f\"EvalML score: {evalml_score}\")\n",
    "print(f\"Tensor Flow score: {tf_score}\")\n",
    "print(\"################\")"
   ]
  }
 ]
}