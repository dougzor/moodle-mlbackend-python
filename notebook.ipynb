{
 "metadata": {
  "language_info": {
   "codemirror_mode": {
    "name": "ipython",
    "version": 3
   },
   "file_extension": ".py",
   "mimetype": "text/x-python",
   "name": "python",
   "nbconvert_exporter": "python",
   "pygments_lexer": "ipython3",
   "version": "3.7.9-final"
  },
  "orig_nbformat": 2,
  "kernelspec": {
   "name": "python3",
   "display_name": "Python 3"
  }
 },
 "nbformat": 4,
 "nbformat_minor": 2,
 "cells": [
  {
   "cell_type": "code",
   "execution_count": 1,
   "metadata": {
    "tags": []
   },
   "outputs": [
    {
     "output_type": "stream",
     "name": "stdout",
     "text": [
      "/Users/doug.morgan/git/moodle-mlbackend-python/test_data/breast_cancer.csv\n------- Metadata from Moodle LMS ---------\n\nnfeatures,targetclasses,targettype\n\n30,\"[0,1]\",\"discrete\"\n\n\n\n------------------------------------------\n\n"
     ]
    },
    {
     "output_type": "execute_result",
     "data": {
      "text/plain": [
       "<bound method NDFrame.head of      0\n",
       "0    1\n",
       "1    0\n",
       "2    0\n",
       "3    1\n",
       "4    1\n",
       "..  ..\n",
       "564  1\n",
       "565  1\n",
       "566  1\n",
       "567  1\n",
       "568  1\n",
       "\n",
       "[569 rows x 1 columns]>"
      ]
     },
     "metadata": {},
     "execution_count": 1
    }
   ],
   "source": [
    "import os\n",
    "import numpy as np\n",
    "import pandas as pd\n",
    "import evalml\n",
    "from sklearn.metrics import accuracy_score\n",
    "from moodlemlbackend.processor.base import BaseEstimater\n",
    "\n",
    "# Load the data we are going to test with\n",
    "breat_cancer_path = os.path.join(os.path.abspath(''), 'test_data/breast_cancer.csv')\n",
    "print(breat_cancer_path)\n",
    "\n",
    "# In moodle data exported the first two lines have meta data in them\n",
    "with open(breat_cancer_path) as fp:\n",
    "    head = [next(fp) for x in range(3)]\n",
    "\n",
    "print(\"------- Metadata from Moodle LMS ---------\\n\")\n",
    "print(\"\\n\".join(head))\n",
    "print(\"------------------------------------------\\n\")\n",
    "\n",
    "# Get the data imported and split into test and training\n",
    "X, y = BaseEstimater.get_labelled_samples(breat_cancer_path)\n",
    "X_train, X_holdout, y_train, y_holdout = evalml.preprocessing.split_data(X, y, test_size=0.2, random_state=0)\n",
    "\n",
    "pd.DataFrame(X).head\n",
    "pd.DataFrame(y).head\n"
   ]
  },
  {
   "cell_type": "code",
   "execution_count": 2,
   "metadata": {},
   "outputs": [],
   "source": [
    "import tempfile\n",
    "from moodlemlbackend.model import TFModel\n",
    "\n",
    "# Setup the Tensorflow based Estimator (currently a Neural Network)\n",
    "temp_directory = tempfile.mkdtemp()\n",
    "model_id = 1\n",
    "with tempfile.TemporaryDirectory() as tmpdirname:\n",
    "    tf = TFModel(X_train.shape[1], len(np.unique(y_train)), 1000, 1000, 0.5, tmpdirname)\n",
    "    tf.fit(X_train.values, y_train.values)\n",
    "\n",
    "tf_score = accuracy_score(y_holdout, tf.predict(X_holdout))"
   ]
  },
  {
   "cell_type": "code",
   "execution_count": 3,
   "metadata": {},
   "outputs": [
    {
     "output_type": "stream",
     "name": "stdout",
     "text": [
      "Generating pipelines to search over...\n",
      "*****************************\n",
      "* Beginning pipeline search *\n",
      "*****************************\n",
      "\n",
      "Optimizing for Accuracy Binary. \n",
      "Greater score is better.\n",
      "\n",
      "Searching up to 10 pipelines. \n",
      "Allowed model families: xgboost, linear_model, lightgbm, extra_trees, catboost, random_forest\n",
      "\n"
     ]
    },
    {
     "output_type": "display_data",
     "data": {
      "text/plain": "FigureWidget({\n    'data': [{'mode': 'lines+markers',\n              'name': 'Best Score',\n              'type'…",
      "application/vnd.jupyter.widget-view+json": {
       "version_major": 2,
       "version_minor": 0,
       "model_id": "53b152deaa3d4755940a8f0b3936b4dc"
      }
     },
     "metadata": {}
    },
    {
     "output_type": "stream",
     "name": "stdout",
     "text": [
      "(1/10) Mode Baseline Binary Classification P... Elapsed:00:00\n",
      "\tStarting cross validation\n",
      "\tFinished cross validation - mean Accuracy Binary: 0.626\n",
      "(2/10) LightGBM Classifier w/ Imputer           Elapsed:00:00\n",
      "\tStarting cross validation\n",
      "\tFinished cross validation - mean Accuracy Binary: 0.967\n",
      "(3/10) Extra Trees Classifier w/ Imputer        Elapsed:00:00\n",
      "\tStarting cross validation\n",
      "\tFinished cross validation - mean Accuracy Binary: 0.945\n",
      "(4/10) Elastic Net Classifier w/ Imputer + S... Elapsed:00:02\n",
      "\tStarting cross validation\n",
      "\tFinished cross validation - mean Accuracy Binary: 0.923\n",
      "(5/10) CatBoost Classifier w/ Imputer           Elapsed:00:02\n",
      "\tStarting cross validation\n",
      "\tFinished cross validation - mean Accuracy Binary: 0.923\n",
      "(6/10) XGBoost Classifier w/ Imputer            Elapsed:00:02\n",
      "\tStarting cross validation\n",
      "\tFinished cross validation - mean Accuracy Binary: 0.949\n",
      "(7/10) Random Forest Classifier w/ Imputer      Elapsed:00:03\n",
      "\tStarting cross validation\n",
      "\tFinished cross validation - mean Accuracy Binary: 0.943\n",
      "(8/10) Logistic Regression Classifier w/ Imp... Elapsed:00:04\n",
      "\tStarting cross validation\n",
      "\tFinished cross validation - mean Accuracy Binary: 0.949\n",
      "(9/10) LightGBM Classifier w/ Imputer           Elapsed:00:07\n",
      "\tStarting cross validation\n",
      "\tFinished cross validation - mean Accuracy Binary: 0.960\n",
      "(10/10) LightGBM Classifier w/ Imputer           Elapsed:00:07\n",
      "\tStarting cross validation\n",
      "\tFinished cross validation - mean Accuracy Binary: 0.965\n",
      "\n",
      "Search finished after 00:07            \n",
      "Best pipeline: LightGBM Classifier w/ Imputer\n",
      "Best pipeline Accuracy Binary: 0.967047\n",
      "############################# Rankings #########################################\n",
      "   id                                      pipeline_name     score  \\\n",
      "0   1                     LightGBM Classifier w/ Imputer  0.967047   \n",
      "3   7  Logistic Regression Classifier w/ Imputer + St...  0.949489   \n",
      "4   5                      XGBoost Classifier w/ Imputer  0.949474   \n",
      "5   2                  Extra Trees Classifier w/ Imputer  0.945074   \n",
      "6   6                Random Forest Classifier w/ Imputer  0.942866   \n",
      "7   4                     CatBoost Classifier w/ Imputer  0.923071   \n",
      "8   3  Elastic Net Classifier w/ Imputer + Standard S...  0.923013   \n",
      "9   0       Mode Baseline Binary Classification Pipeline  0.626380   \n",
      "\n",
      "   validation_score  percent_better_than_baseline  high_variance_cv  \\\n",
      "0          0.960526                     54.386738             False   \n",
      "3          0.953947                     51.583585             False   \n",
      "4          0.960526                     51.581266             False   \n",
      "5          0.940789                     50.878739             False   \n",
      "6          0.927632                     50.526316             False   \n",
      "7          0.907895                     47.366102             False   \n",
      "8          0.947368                     47.356828             False   \n",
      "9          0.625000                      0.000000             False   \n",
      "\n",
      "                                          parameters  \n",
      "0  {'Imputer': {'categorical_impute_strategy': 'm...  \n",
      "3  {'Imputer': {'categorical_impute_strategy': 'm...  \n",
      "4  {'Imputer': {'categorical_impute_strategy': 'm...  \n",
      "5  {'Imputer': {'categorical_impute_strategy': 'm...  \n",
      "6  {'Imputer': {'categorical_impute_strategy': 'm...  \n",
      "7  {'Imputer': {'categorical_impute_strategy': 'm...  \n",
      "8  {'Imputer': {'categorical_impute_strategy': 'm...  \n",
      "9      {'Baseline Classifier': {'strategy': 'mode'}}  \n",
      "################################################################################\n",
      "############################# Pipeiline ########################################\n",
      "**********************************\n",
      "* LightGBM Classifier w/ Imputer *\n",
      "**********************************\n",
      "\n",
      "Problem Type: binary\n",
      "Model Family: LightGBM\n",
      "Number of features: 30\n",
      "\n",
      "Pipeline Steps\n",
      "==============\n",
      "1. Imputer\n",
      "\t * categorical_impute_strategy : most_frequent\n",
      "\t * numeric_impute_strategy : mean\n",
      "\t * categorical_fill_value : None\n",
      "\t * numeric_fill_value : None\n",
      "2. LightGBM Classifier\n",
      "\t * boosting_type : gbdt\n",
      "\t * learning_rate : 0.1\n",
      "\t * n_estimators : 100\n",
      "\t * max_depth : 0\n",
      "\t * num_leaves : 31\n",
      "\t * min_child_samples : 20\n",
      "\t * n_jobs : -1\n",
      "################################################################################\n"
     ]
    }
   ],
   "source": [
    "# EvalML implementation\n",
    "from moodlemlbackend.model import EvalMlModel\n",
    "\n",
    "runner = EvalMlModel()\n",
    "best_pipeline = runner.fit(X_train.values, y_train.values)\n",
    "\n",
    "print(\"############################# Rankings #########################################\")\n",
    "print(runner.automl.rankings)\n",
    "print(\"################################################################################\")\n",
    "print(\"############################# Pipeiline ########################################\")\n",
    "best_pipeline.describe()\n",
    "print(\"################################################################################\")\n",
    "\n",
    "evalml_score = accuracy_score(y_holdout, best_pipeline.predict(X_holdout))"
   ]
  },
  {
   "cell_type": "code",
   "execution_count": 4,
   "metadata": {},
   "outputs": [
    {
     "output_type": "stream",
     "name": "stdout",
     "text": [
      "################\n",
      "EvalML score: 0.9736842105263158\n",
      "Tensor Flow score: 0.631578947368421\n",
      "################\n"
     ]
    }
   ],
   "source": [
    "print(\"################\")\n",
    "print(f\"EvalML score: {evalml_score}\")\n",
    "print(f\"Tensor Flow score: {tf_score}\")\n",
    "print(\"################\")"
   ]
  }
 ]
}